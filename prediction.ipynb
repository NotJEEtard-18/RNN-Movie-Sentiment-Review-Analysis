{
  "nbformat": 4,
  "nbformat_minor": 0,
  "metadata": {
    "colab": {
      "provenance": []
    },
    "kernelspec": {
      "name": "python3",
      "display_name": "Python 3"
    },
    "language_info": {
      "name": "python"
    }
  },
  "cells": [
    {
      "cell_type": "code",
      "execution_count": 18,
      "metadata": {
        "id": "H9cH8ZriWY7O"
      },
      "outputs": [],
      "source": [
        "# Step 1: Import Libraries and Load the Model\n",
        "import numpy as np\n",
        "import tensorflow as tf\n",
        "from tensorflow.keras.datasets import imdb\n",
        "from tensorflow.keras.preprocessing import sequence\n",
        "from tensorflow.keras.models import load_model"
      ]
    },
    {
      "cell_type": "code",
      "source": [
        "# Load the IMDB dataset word index\n",
        "word_index = imdb.get_word_index()\n",
        "reverse_word_index = {value: key for key, value in word_index.items()}"
      ],
      "metadata": {
        "id": "GieBZR79Wloa"
      },
      "execution_count": 19,
      "outputs": []
    },
    {
      "cell_type": "code",
      "source": [
        "# Load the pre-trained model with ReLU activation\n",
        "model = load_model('simple_rnn_imdb.h5')\n",
        "model.summary()"
      ],
      "metadata": {
        "colab": {
          "base_uri": "https://localhost:8080/",
          "height": 278
        },
        "id": "Yiy3WrFjWo21",
        "outputId": "7c477dfe-3035-4345-e91a-fcccb45f84d1"
      },
      "execution_count": 20,
      "outputs": [
        {
          "output_type": "stream",
          "name": "stderr",
          "text": [
            "WARNING:absl:Compiled the loaded model, but the compiled metrics have yet to be built. `model.compile_metrics` will be empty until you train or evaluate the model.\n"
          ]
        },
        {
          "output_type": "display_data",
          "data": {
            "text/plain": [
              "\u001b[1mModel: \"sequential_1\"\u001b[0m\n"
            ],
            "text/html": [
              "<pre style=\"white-space:pre;overflow-x:auto;line-height:normal;font-family:Menlo,'DejaVu Sans Mono',consolas,'Courier New',monospace\"><span style=\"font-weight: bold\">Model: \"sequential_1\"</span>\n",
              "</pre>\n"
            ]
          },
          "metadata": {}
        },
        {
          "output_type": "display_data",
          "data": {
            "text/plain": [
              "┏━━━━━━━━━━━━━━━━━━━━━━━━━━━━━━━━━┳━━━━━━━━━━━━━━━━━━━━━━━━┳━━━━━━━━━━━━━━━┓\n",
              "┃\u001b[1m \u001b[0m\u001b[1mLayer (type)                   \u001b[0m\u001b[1m \u001b[0m┃\u001b[1m \u001b[0m\u001b[1mOutput Shape          \u001b[0m\u001b[1m \u001b[0m┃\u001b[1m \u001b[0m\u001b[1m      Param #\u001b[0m\u001b[1m \u001b[0m┃\n",
              "┡━━━━━━━━━━━━━━━━━━━━━━━━━━━━━━━━━╇━━━━━━━━━━━━━━━━━━━━━━━━╇━━━━━━━━━━━━━━━┩\n",
              "│ embedding_1 (\u001b[38;5;33mEmbedding\u001b[0m)         │ (\u001b[38;5;34m32\u001b[0m, \u001b[38;5;34m500\u001b[0m, \u001b[38;5;34m32\u001b[0m)          │       \u001b[38;5;34m320,000\u001b[0m │\n",
              "├─────────────────────────────────┼────────────────────────┼───────────────┤\n",
              "│ simple_rnn_1 (\u001b[38;5;33mSimpleRNN\u001b[0m)        │ (\u001b[38;5;34m32\u001b[0m, \u001b[38;5;34m32\u001b[0m)               │         \u001b[38;5;34m2,080\u001b[0m │\n",
              "├─────────────────────────────────┼────────────────────────┼───────────────┤\n",
              "│ dense_1 (\u001b[38;5;33mDense\u001b[0m)                 │ (\u001b[38;5;34m32\u001b[0m, \u001b[38;5;34m1\u001b[0m)                │            \u001b[38;5;34m33\u001b[0m │\n",
              "└─────────────────────────────────┴────────────────────────┴───────────────┘\n"
            ],
            "text/html": [
              "<pre style=\"white-space:pre;overflow-x:auto;line-height:normal;font-family:Menlo,'DejaVu Sans Mono',consolas,'Courier New',monospace\">┏━━━━━━━━━━━━━━━━━━━━━━━━━━━━━━━━━┳━━━━━━━━━━━━━━━━━━━━━━━━┳━━━━━━━━━━━━━━━┓\n",
              "┃<span style=\"font-weight: bold\"> Layer (type)                    </span>┃<span style=\"font-weight: bold\"> Output Shape           </span>┃<span style=\"font-weight: bold\">       Param # </span>┃\n",
              "┡━━━━━━━━━━━━━━━━━━━━━━━━━━━━━━━━━╇━━━━━━━━━━━━━━━━━━━━━━━━╇━━━━━━━━━━━━━━━┩\n",
              "│ embedding_1 (<span style=\"color: #0087ff; text-decoration-color: #0087ff\">Embedding</span>)         │ (<span style=\"color: #00af00; text-decoration-color: #00af00\">32</span>, <span style=\"color: #00af00; text-decoration-color: #00af00\">500</span>, <span style=\"color: #00af00; text-decoration-color: #00af00\">32</span>)          │       <span style=\"color: #00af00; text-decoration-color: #00af00\">320,000</span> │\n",
              "├─────────────────────────────────┼────────────────────────┼───────────────┤\n",
              "│ simple_rnn_1 (<span style=\"color: #0087ff; text-decoration-color: #0087ff\">SimpleRNN</span>)        │ (<span style=\"color: #00af00; text-decoration-color: #00af00\">32</span>, <span style=\"color: #00af00; text-decoration-color: #00af00\">32</span>)               │         <span style=\"color: #00af00; text-decoration-color: #00af00\">2,080</span> │\n",
              "├─────────────────────────────────┼────────────────────────┼───────────────┤\n",
              "│ dense_1 (<span style=\"color: #0087ff; text-decoration-color: #0087ff\">Dense</span>)                 │ (<span style=\"color: #00af00; text-decoration-color: #00af00\">32</span>, <span style=\"color: #00af00; text-decoration-color: #00af00\">1</span>)                │            <span style=\"color: #00af00; text-decoration-color: #00af00\">33</span> │\n",
              "└─────────────────────────────────┴────────────────────────┴───────────────┘\n",
              "</pre>\n"
            ]
          },
          "metadata": {}
        },
        {
          "output_type": "display_data",
          "data": {
            "text/plain": [
              "\u001b[1m Total params: \u001b[0m\u001b[38;5;34m322,115\u001b[0m (1.23 MB)\n"
            ],
            "text/html": [
              "<pre style=\"white-space:pre;overflow-x:auto;line-height:normal;font-family:Menlo,'DejaVu Sans Mono',consolas,'Courier New',monospace\"><span style=\"font-weight: bold\"> Total params: </span><span style=\"color: #00af00; text-decoration-color: #00af00\">322,115</span> (1.23 MB)\n",
              "</pre>\n"
            ]
          },
          "metadata": {}
        },
        {
          "output_type": "display_data",
          "data": {
            "text/plain": [
              "\u001b[1m Trainable params: \u001b[0m\u001b[38;5;34m322,113\u001b[0m (1.23 MB)\n"
            ],
            "text/html": [
              "<pre style=\"white-space:pre;overflow-x:auto;line-height:normal;font-family:Menlo,'DejaVu Sans Mono',consolas,'Courier New',monospace\"><span style=\"font-weight: bold\"> Trainable params: </span><span style=\"color: #00af00; text-decoration-color: #00af00\">322,113</span> (1.23 MB)\n",
              "</pre>\n"
            ]
          },
          "metadata": {}
        },
        {
          "output_type": "display_data",
          "data": {
            "text/plain": [
              "\u001b[1m Non-trainable params: \u001b[0m\u001b[38;5;34m0\u001b[0m (0.00 B)\n"
            ],
            "text/html": [
              "<pre style=\"white-space:pre;overflow-x:auto;line-height:normal;font-family:Menlo,'DejaVu Sans Mono',consolas,'Courier New',monospace\"><span style=\"font-weight: bold\"> Non-trainable params: </span><span style=\"color: #00af00; text-decoration-color: #00af00\">0</span> (0.00 B)\n",
              "</pre>\n"
            ]
          },
          "metadata": {}
        },
        {
          "output_type": "display_data",
          "data": {
            "text/plain": [
              "\u001b[1m Optimizer params: \u001b[0m\u001b[38;5;34m2\u001b[0m (12.00 B)\n"
            ],
            "text/html": [
              "<pre style=\"white-space:pre;overflow-x:auto;line-height:normal;font-family:Menlo,'DejaVu Sans Mono',consolas,'Courier New',monospace\"><span style=\"font-weight: bold\"> Optimizer params: </span><span style=\"color: #00af00; text-decoration-color: #00af00\">2</span> (12.00 B)\n",
              "</pre>\n"
            ]
          },
          "metadata": {}
        }
      ]
    },
    {
      "cell_type": "code",
      "source": [
        "model.get_weights()"
      ],
      "metadata": {
        "id": "OP_0aeX5WsJZ",
        "colab": {
          "base_uri": "https://localhost:8080/"
        },
        "outputId": "9aa7e92a-a0be-4bf8-8a20-0b73c99285ef"
      },
      "execution_count": 21,
      "outputs": [
        {
          "output_type": "execute_result",
          "data": {
            "text/plain": [
              "[array([[ 0.11640703,  0.03693969, -0.06315698, ...,  0.0259366 ,\n",
              "         -0.03454249, -0.13630301],\n",
              "        [ 0.0277156 ,  0.06258709,  0.06213771, ..., -0.01077989,\n",
              "         -0.01813518, -0.04837435],\n",
              "        [ 0.00801888, -0.04250759, -0.0437431 , ...,  0.00844946,\n",
              "         -0.00204295, -0.06156741],\n",
              "        ...,\n",
              "        [ 0.06020432, -0.05428151, -0.006128  , ...,  0.05830605,\n",
              "          0.05671699,  0.03998984],\n",
              "        [-0.05426191, -0.01012797,  0.071176  , ..., -0.05225398,\n",
              "         -0.01736032, -0.08332903],\n",
              "        [ 0.10118144, -0.09197533, -0.05813738, ...,  0.09948584,\n",
              "          0.06360134,  0.07686023]], dtype=float32),\n",
              " array([[-0.0582753 ,  0.01136332,  0.22155666, ..., -0.16116963,\n",
              "          0.01285752,  0.27546942],\n",
              "        [ 0.30100396,  0.3072732 , -0.30015418, ..., -0.22070298,\n",
              "          0.24429303,  0.19740723],\n",
              "        [-0.16104983,  0.05113558, -0.3618335 , ..., -0.40336147,\n",
              "          0.13638411,  0.05035656],\n",
              "        ...,\n",
              "        [ 0.05713775,  0.0258035 ,  0.12321063, ...,  0.1297912 ,\n",
              "          0.2987919 , -0.22719578],\n",
              "        [ 0.16125691,  0.17936617, -0.04616942, ...,  0.2202658 ,\n",
              "         -0.28395855, -0.04090885],\n",
              "        [ 0.19355416, -0.02210041,  0.5211609 , ...,  0.3324217 ,\n",
              "          0.02619569, -0.14055702]], dtype=float32),\n",
              " array([[ 0.28132135, -0.24362822, -0.2195378 , ...,  0.18966386,\n",
              "          0.24023247, -0.09525149],\n",
              "        [ 0.22196694,  0.00099855,  0.3603456 , ..., -0.00891266,\n",
              "         -0.02331509,  0.13772918],\n",
              "        [ 0.28014246,  0.14734137,  0.00880313, ..., -0.03177351,\n",
              "         -0.06445821,  0.28021178],\n",
              "        ...,\n",
              "        [ 0.11150459,  0.03981568,  0.20314354, ..., -0.07085653,\n",
              "         -0.08925439,  0.3685289 ],\n",
              "        [ 0.0890172 , -0.08950017, -0.18763486, ...,  0.04464183,\n",
              "         -0.22390933,  0.06342285],\n",
              "        [-0.17227903,  0.25182462, -0.04499581, ..., -0.23137856,\n",
              "          0.12182149,  0.23582402]], dtype=float32),\n",
              " array([ 0.01697223,  0.00556066,  0.00659446,  0.03035373, -0.04621436,\n",
              "         0.02250898, -0.02329956,  0.00375315, -0.00948   ,  0.01587876,\n",
              "         0.04661008,  0.0621816 ,  0.04883057,  0.01672739, -0.03625169,\n",
              "        -0.02946327, -0.03248785,  0.01019122,  0.05819241, -0.03944889,\n",
              "        -0.05062451,  0.02918136, -0.00457451,  0.02774517,  0.03567415,\n",
              "        -0.03326783,  0.03226168,  0.02061101, -0.00332921,  0.00058244,\n",
              "        -0.0418727 ,  0.03087968], dtype=float32),\n",
              " array([[ 0.11091341],\n",
              "        [ 0.03476558],\n",
              "        [ 0.3559619 ],\n",
              "        [-0.15845975],\n",
              "        [ 0.32143265],\n",
              "        [-0.45482066],\n",
              "        [-0.05158446],\n",
              "        [ 0.19940303],\n",
              "        [ 0.61413044],\n",
              "        [ 0.71299046],\n",
              "        [-0.4360625 ],\n",
              "        [-0.50794244],\n",
              "        [ 0.7305552 ],\n",
              "        [ 0.26327005],\n",
              "        [ 0.50658035],\n",
              "        [-0.06197489],\n",
              "        [ 0.69418865],\n",
              "        [-0.07575063],\n",
              "        [-0.51974106],\n",
              "        [ 0.48479643],\n",
              "        [ 0.12224088],\n",
              "        [ 0.3097917 ],\n",
              "        [ 0.5524504 ],\n",
              "        [-0.11978586],\n",
              "        [-0.41748044],\n",
              "        [ 0.4853185 ],\n",
              "        [ 0.7842496 ],\n",
              "        [-0.24032418],\n",
              "        [ 0.24622683],\n",
              "        [ 0.49321666],\n",
              "        [ 0.35724822],\n",
              "        [ 0.26093966]], dtype=float32),\n",
              " array([0.11888142], dtype=float32)]"
            ]
          },
          "metadata": {},
          "execution_count": 21
        }
      ]
    },
    {
      "cell_type": "code",
      "source": [
        "# Step 2: Helper Functions\n",
        "# Function to decode reviews\n",
        "def decode_review(encoded_review):\n",
        "    return ' '.join([reverse_word_index.get(i - 3, '?') for i in encoded_review])\n",
        "\n",
        "# Function to preprocess user input\n",
        "def preprocess_text(text):\n",
        "    words = text.lower().split()\n",
        "    encoded_review = [word_index.get(word, 2) + 3 for word in words]\n",
        "    padded_review = sequence.pad_sequences([encoded_review], maxlen=500)\n",
        "    return padded_review"
      ],
      "metadata": {
        "id": "w_5OuGjZWugm"
      },
      "execution_count": 22,
      "outputs": []
    },
    {
      "cell_type": "code",
      "source": [
        "### Prediction  function\n",
        "\n",
        "def predict_sentiment(review):\n",
        "    preprocessed_input=preprocess_text(review)\n",
        "\n",
        "    prediction=model.predict(preprocessed_input)\n",
        "\n",
        "    sentiment = 'Positive' if prediction[0][0] > 0.5 else 'Negative'\n",
        "\n",
        "    return sentiment, prediction[0][0]"
      ],
      "metadata": {
        "id": "ohOUVs9NW19f"
      },
      "execution_count": 23,
      "outputs": []
    },
    {
      "cell_type": "code",
      "source": [
        "example_review = \"This movie was fantastic! The acting was great and the plot was thrilling.\"\n",
        "sentiment, score = predict_sentiment(example_review)\n",
        "print(f\"Review : {example_review}\")\n",
        "print(f\"Sentiment: {sentiment}, Score: {score}\")"
      ],
      "metadata": {
        "colab": {
          "base_uri": "https://localhost:8080/"
        },
        "id": "ZBTCP9xB6Sog",
        "outputId": "b6ec4d12-8600-448d-ec63-66e128be30ef"
      },
      "execution_count": 24,
      "outputs": [
        {
          "output_type": "stream",
          "name": "stdout",
          "text": [
            "\u001b[1m1/1\u001b[0m \u001b[32m━━━━━━━━━━━━━━━━━━━━\u001b[0m\u001b[37m\u001b[0m \u001b[1m0s\u001b[0m 187ms/step\n",
            "Review : This movie was fantastic! The acting was great and the plot was thrilling.\n",
            "Sentiment: Negative, Score: 0.4964095950126648\n"
          ]
        }
      ]
    }
  ]
}